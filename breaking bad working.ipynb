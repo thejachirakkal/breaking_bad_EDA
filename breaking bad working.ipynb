{
 "cells": [
  {
   "cell_type": "code",
   "execution_count": 1,
   "id": "206dede8",
   "metadata": {},
   "outputs": [],
   "source": [
    "import pandas as pd\n",
    "import numpy as np\n",
    "import matplotlib.pyplot as plt\n",
    "import seaborn as sns"
   ]
  },
  {
   "cell_type": "code",
   "execution_count": 8,
   "id": "2318b59f",
   "metadata": {},
   "outputs": [
    {
     "data": {
      "text/html": [
       "<div>\n",
       "<style scoped>\n",
       "    .dataframe tbody tr th:only-of-type {\n",
       "        vertical-align: middle;\n",
       "    }\n",
       "\n",
       "    .dataframe tbody tr th {\n",
       "        vertical-align: top;\n",
       "    }\n",
       "\n",
       "    .dataframe thead th {\n",
       "        text-align: right;\n",
       "    }\n",
       "</style>\n",
       "<table border=\"1\" class=\"dataframe\">\n",
       "  <thead>\n",
       "    <tr style=\"text-align: right;\">\n",
       "      <th></th>\n",
       "      <th>Date</th>\n",
       "      <th>Season</th>\n",
       "      <th>Episode</th>\n",
       "      <th>Title</th>\n",
       "      <th>Directed by</th>\n",
       "      <th>Written by</th>\n",
       "      <th>Duration_mins</th>\n",
       "      <th>Summary</th>\n",
       "      <th>Rating_IMDB</th>\n",
       "      <th>U.S. viewers_million</th>\n",
       "    </tr>\n",
       "  </thead>\n",
       "  <tbody>\n",
       "    <tr>\n",
       "      <th>0</th>\n",
       "      <td>20-Jan-08</td>\n",
       "      <td>1</td>\n",
       "      <td>1</td>\n",
       "      <td>Pilot</td>\n",
       "      <td>Vince Gilligan</td>\n",
       "      <td>Vince Gilligan</td>\n",
       "      <td>58</td>\n",
       "      <td>Diagnosed with terminal lung cancer, chemistry...</td>\n",
       "      <td>9.1</td>\n",
       "      <td>1.41</td>\n",
       "    </tr>\n",
       "    <tr>\n",
       "      <th>1</th>\n",
       "      <td>27-Jan-08</td>\n",
       "      <td>1</td>\n",
       "      <td>2</td>\n",
       "      <td>Cat's in the Bag...</td>\n",
       "      <td>Adam Bernstein</td>\n",
       "      <td>Vince Gilligan</td>\n",
       "      <td>48</td>\n",
       "      <td>After their first drug deal goes terribly wron...</td>\n",
       "      <td>8.7</td>\n",
       "      <td>1.49</td>\n",
       "    </tr>\n",
       "    <tr>\n",
       "      <th>2</th>\n",
       "      <td>10-Feb-08</td>\n",
       "      <td>1</td>\n",
       "      <td>3</td>\n",
       "      <td>...And the Bag's in the River</td>\n",
       "      <td>Adam Bernstein</td>\n",
       "      <td>Vince Gilligan</td>\n",
       "      <td>48</td>\n",
       "      <td>Walt and Jesse clean up after the bathtub inci...</td>\n",
       "      <td>8.8</td>\n",
       "      <td>1.08</td>\n",
       "    </tr>\n",
       "    <tr>\n",
       "      <th>3</th>\n",
       "      <td>17-Feb-08</td>\n",
       "      <td>1</td>\n",
       "      <td>4</td>\n",
       "      <td>Cancer Man</td>\n",
       "      <td>Jim McKay</td>\n",
       "      <td>Vince Gilligan</td>\n",
       "      <td>48</td>\n",
       "      <td>Walt tells the rest of his family about his ca...</td>\n",
       "      <td>8.3</td>\n",
       "      <td>1.09</td>\n",
       "    </tr>\n",
       "    <tr>\n",
       "      <th>4</th>\n",
       "      <td>24-Feb-08</td>\n",
       "      <td>1</td>\n",
       "      <td>5</td>\n",
       "      <td>Gray Matter</td>\n",
       "      <td>Tricia Brock</td>\n",
       "      <td>Vince Gilligan, Patty Lin</td>\n",
       "      <td>48</td>\n",
       "      <td>Walt rejects everyone who tries to help him wi...</td>\n",
       "      <td>8.4</td>\n",
       "      <td>0.97</td>\n",
       "    </tr>\n",
       "    <tr>\n",
       "      <th>...</th>\n",
       "      <td>...</td>\n",
       "      <td>...</td>\n",
       "      <td>...</td>\n",
       "      <td>...</td>\n",
       "      <td>...</td>\n",
       "      <td>...</td>\n",
       "      <td>...</td>\n",
       "      <td>...</td>\n",
       "      <td>...</td>\n",
       "      <td>...</td>\n",
       "    </tr>\n",
       "    <tr>\n",
       "      <th>57</th>\n",
       "      <td>01-Sep-13</td>\n",
       "      <td>5</td>\n",
       "      <td>12</td>\n",
       "      <td>Rabid Dog</td>\n",
       "      <td>Sam Catlin</td>\n",
       "      <td>Vince Gilligan, Sam Catlin</td>\n",
       "      <td>48</td>\n",
       "      <td>Walt discovers Jesse broke into his house and ...</td>\n",
       "      <td>9.2</td>\n",
       "      <td>4.41</td>\n",
       "    </tr>\n",
       "    <tr>\n",
       "      <th>58</th>\n",
       "      <td>08-Sep-13</td>\n",
       "      <td>5</td>\n",
       "      <td>13</td>\n",
       "      <td>To'hajiilee</td>\n",
       "      <td>Michelle MacLaren</td>\n",
       "      <td>Vince Gilligan, George Mastras</td>\n",
       "      <td>47</td>\n",
       "      <td>Jesse and Hank come up with an idea to take Wa...</td>\n",
       "      <td>9.8</td>\n",
       "      <td>5.11</td>\n",
       "    </tr>\n",
       "    <tr>\n",
       "      <th>59</th>\n",
       "      <td>15-Sep-13</td>\n",
       "      <td>5</td>\n",
       "      <td>14</td>\n",
       "      <td>Ozymandias</td>\n",
       "      <td>Rian Johnson</td>\n",
       "      <td>Vince Gilligan, Moira Walley-Beckett</td>\n",
       "      <td>48</td>\n",
       "      <td>Walt goes on the run. Jesse is taken hostage. ...</td>\n",
       "      <td>10.0</td>\n",
       "      <td>6.37</td>\n",
       "    </tr>\n",
       "    <tr>\n",
       "      <th>60</th>\n",
       "      <td>22-Sep-13</td>\n",
       "      <td>5</td>\n",
       "      <td>15</td>\n",
       "      <td>Granite State</td>\n",
       "      <td>Peter Gould</td>\n",
       "      <td>Vince Gilligan, Peter Gould</td>\n",
       "      <td>55</td>\n",
       "      <td>Walt struggles as he adapts to aspects of his ...</td>\n",
       "      <td>9.7</td>\n",
       "      <td>6.58</td>\n",
       "    </tr>\n",
       "    <tr>\n",
       "      <th>61</th>\n",
       "      <td>29-Sep-13</td>\n",
       "      <td>5</td>\n",
       "      <td>16</td>\n",
       "      <td>Felina</td>\n",
       "      <td>Vince Gilligan</td>\n",
       "      <td>Vince Gilligan</td>\n",
       "      <td>55</td>\n",
       "      <td>Walter White makes one last attempt to secure ...</td>\n",
       "      <td>9.9</td>\n",
       "      <td>10.28</td>\n",
       "    </tr>\n",
       "  </tbody>\n",
       "</table>\n",
       "<p>62 rows × 10 columns</p>\n",
       "</div>"
      ],
      "text/plain": [
       "         Date  Season  Episode                          Title  \\\n",
       "0   20-Jan-08       1        1                          Pilot   \n",
       "1   27-Jan-08       1        2            Cat's in the Bag...   \n",
       "2   10-Feb-08       1        3  ...And the Bag's in the River   \n",
       "3   17-Feb-08       1        4                     Cancer Man   \n",
       "4   24-Feb-08       1        5                    Gray Matter   \n",
       "..        ...     ...      ...                            ...   \n",
       "57  01-Sep-13       5       12                      Rabid Dog   \n",
       "58  08-Sep-13       5       13                    To'hajiilee   \n",
       "59  15-Sep-13       5       14                     Ozymandias   \n",
       "60  22-Sep-13       5       15                  Granite State   \n",
       "61  29-Sep-13       5       16                         Felina   \n",
       "\n",
       "          Directed by                            Written by  Duration_mins  \\\n",
       "0      Vince Gilligan                        Vince Gilligan             58   \n",
       "1      Adam Bernstein                        Vince Gilligan             48   \n",
       "2      Adam Bernstein                        Vince Gilligan             48   \n",
       "3           Jim McKay                        Vince Gilligan             48   \n",
       "4        Tricia Brock             Vince Gilligan, Patty Lin             48   \n",
       "..                ...                                   ...            ...   \n",
       "57         Sam Catlin            Vince Gilligan, Sam Catlin             48   \n",
       "58  Michelle MacLaren        Vince Gilligan, George Mastras             47   \n",
       "59       Rian Johnson  Vince Gilligan, Moira Walley-Beckett             48   \n",
       "60        Peter Gould           Vince Gilligan, Peter Gould             55   \n",
       "61     Vince Gilligan                        Vince Gilligan             55   \n",
       "\n",
       "                                              Summary  Rating_IMDB  \\\n",
       "0   Diagnosed with terminal lung cancer, chemistry...          9.1   \n",
       "1   After their first drug deal goes terribly wron...          8.7   \n",
       "2   Walt and Jesse clean up after the bathtub inci...          8.8   \n",
       "3   Walt tells the rest of his family about his ca...          8.3   \n",
       "4   Walt rejects everyone who tries to help him wi...          8.4   \n",
       "..                                                ...          ...   \n",
       "57  Walt discovers Jesse broke into his house and ...          9.2   \n",
       "58  Jesse and Hank come up with an idea to take Wa...          9.8   \n",
       "59  Walt goes on the run. Jesse is taken hostage. ...         10.0   \n",
       "60  Walt struggles as he adapts to aspects of his ...          9.7   \n",
       "61  Walter White makes one last attempt to secure ...          9.9   \n",
       "\n",
       "    U.S. viewers_million  \n",
       "0                   1.41  \n",
       "1                   1.49  \n",
       "2                   1.08  \n",
       "3                   1.09  \n",
       "4                   0.97  \n",
       "..                   ...  \n",
       "57                  4.41  \n",
       "58                  5.11  \n",
       "59                  6.37  \n",
       "60                  6.58  \n",
       "61                 10.28  \n",
       "\n",
       "[62 rows x 10 columns]"
      ]
     },
     "execution_count": 8,
     "metadata": {},
     "output_type": "execute_result"
    }
   ],
   "source": [
    "b_bad=pd.read_csv(\"breaking_bad.csv\",encoding=\"latin-1\")\n",
    "b_bad"
   ]
  },
  {
   "cell_type": "code",
   "execution_count": 9,
   "id": "1fb2a9a2",
   "metadata": {},
   "outputs": [
    {
     "data": {
      "text/plain": [
       "(62, 10)"
      ]
     },
     "execution_count": 9,
     "metadata": {},
     "output_type": "execute_result"
    }
   ],
   "source": [
    "b_bad.shape"
   ]
  },
  {
   "cell_type": "code",
   "execution_count": 10,
   "id": "af36f862",
   "metadata": {},
   "outputs": [
    {
     "data": {
      "text/plain": [
       "620"
      ]
     },
     "execution_count": 10,
     "metadata": {},
     "output_type": "execute_result"
    }
   ],
   "source": [
    "b_bad.size"
   ]
  },
  {
   "cell_type": "code",
   "execution_count": 11,
   "id": "a11554cd",
   "metadata": {},
   "outputs": [
    {
     "data": {
      "text/html": [
       "<div>\n",
       "<style scoped>\n",
       "    .dataframe tbody tr th:only-of-type {\n",
       "        vertical-align: middle;\n",
       "    }\n",
       "\n",
       "    .dataframe tbody tr th {\n",
       "        vertical-align: top;\n",
       "    }\n",
       "\n",
       "    .dataframe thead th {\n",
       "        text-align: right;\n",
       "    }\n",
       "</style>\n",
       "<table border=\"1\" class=\"dataframe\">\n",
       "  <thead>\n",
       "    <tr style=\"text-align: right;\">\n",
       "      <th></th>\n",
       "      <th>count</th>\n",
       "      <th>mean</th>\n",
       "      <th>std</th>\n",
       "      <th>min</th>\n",
       "      <th>25%</th>\n",
       "      <th>50%</th>\n",
       "      <th>75%</th>\n",
       "      <th>max</th>\n",
       "    </tr>\n",
       "  </thead>\n",
       "  <tbody>\n",
       "    <tr>\n",
       "      <th>Season</th>\n",
       "      <td>62.0</td>\n",
       "      <td>3.290323</td>\n",
       "      <td>1.359690</td>\n",
       "      <td>1.00</td>\n",
       "      <td>2.00</td>\n",
       "      <td>3.00</td>\n",
       "      <td>4.75</td>\n",
       "      <td>5.00</td>\n",
       "    </tr>\n",
       "    <tr>\n",
       "      <th>Episode</th>\n",
       "      <td>62.0</td>\n",
       "      <td>7.048387</td>\n",
       "      <td>4.074822</td>\n",
       "      <td>1.00</td>\n",
       "      <td>4.00</td>\n",
       "      <td>7.00</td>\n",
       "      <td>10.00</td>\n",
       "      <td>16.00</td>\n",
       "    </tr>\n",
       "    <tr>\n",
       "      <th>Duration_mins</th>\n",
       "      <td>62.0</td>\n",
       "      <td>47.919355</td>\n",
       "      <td>2.632074</td>\n",
       "      <td>43.00</td>\n",
       "      <td>47.00</td>\n",
       "      <td>47.00</td>\n",
       "      <td>48.00</td>\n",
       "      <td>60.00</td>\n",
       "    </tr>\n",
       "    <tr>\n",
       "      <th>Rating_IMDB</th>\n",
       "      <td>62.0</td>\n",
       "      <td>9.022581</td>\n",
       "      <td>0.511962</td>\n",
       "      <td>7.80</td>\n",
       "      <td>8.70</td>\n",
       "      <td>8.90</td>\n",
       "      <td>9.45</td>\n",
       "      <td>10.00</td>\n",
       "    </tr>\n",
       "    <tr>\n",
       "      <th>U.S. viewers_million</th>\n",
       "      <td>57.0</td>\n",
       "      <td>2.324386</td>\n",
       "      <td>1.719224</td>\n",
       "      <td>0.97</td>\n",
       "      <td>1.46</td>\n",
       "      <td>1.71</td>\n",
       "      <td>2.29</td>\n",
       "      <td>10.28</td>\n",
       "    </tr>\n",
       "  </tbody>\n",
       "</table>\n",
       "</div>"
      ],
      "text/plain": [
       "                      count       mean       std    min    25%    50%    75%  \\\n",
       "Season                 62.0   3.290323  1.359690   1.00   2.00   3.00   4.75   \n",
       "Episode                62.0   7.048387  4.074822   1.00   4.00   7.00  10.00   \n",
       "Duration_mins          62.0  47.919355  2.632074  43.00  47.00  47.00  48.00   \n",
       "Rating_IMDB            62.0   9.022581  0.511962   7.80   8.70   8.90   9.45   \n",
       "U.S. viewers_million   57.0   2.324386  1.719224   0.97   1.46   1.71   2.29   \n",
       "\n",
       "                        max  \n",
       "Season                 5.00  \n",
       "Episode               16.00  \n",
       "Duration_mins         60.00  \n",
       "Rating_IMDB           10.00  \n",
       "U.S. viewers_million  10.28  "
      ]
     },
     "execution_count": 11,
     "metadata": {},
     "output_type": "execute_result"
    }
   ],
   "source": [
    "b_bad.describe().T"
   ]
  },
  {
   "cell_type": "code",
   "execution_count": 12,
   "id": "d2b1e4b9",
   "metadata": {},
   "outputs": [
    {
     "data": {
      "text/plain": [
       "Index(['Date', 'Season', 'Episode', 'Title', 'Directed by', 'Written by',\n",
       "       'Duration_mins', 'Summary', 'Rating_IMDB', 'U.S. viewers_million'],\n",
       "      dtype='object')"
      ]
     },
     "execution_count": 12,
     "metadata": {},
     "output_type": "execute_result"
    }
   ],
   "source": [
    "b_bad.columns"
   ]
  },
  {
   "cell_type": "code",
   "execution_count": 13,
   "id": "7673179f",
   "metadata": {},
   "outputs": [
    {
     "data": {
      "text/plain": [
       "Date                     object\n",
       "Season                    int64\n",
       "Episode                   int64\n",
       "Title                    object\n",
       "Directed by              object\n",
       "Written by               object\n",
       "Duration_mins             int64\n",
       "Summary                  object\n",
       "Rating_IMDB             float64\n",
       "U.S. viewers_million    float64\n",
       "dtype: object"
      ]
     },
     "execution_count": 13,
     "metadata": {},
     "output_type": "execute_result"
    }
   ],
   "source": [
    "b_bad.dtypes"
   ]
  },
  {
   "cell_type": "code",
   "execution_count": 14,
   "id": "972c2d0a",
   "metadata": {},
   "outputs": [
    {
     "data": {
      "text/plain": [
       "Date                    0\n",
       "Season                  0\n",
       "Episode                 0\n",
       "Title                   0\n",
       "Directed by             0\n",
       "Written by              0\n",
       "Duration_mins           0\n",
       "Summary                 0\n",
       "Rating_IMDB             0\n",
       "U.S. viewers_million    5\n",
       "dtype: int64"
      ]
     },
     "execution_count": 14,
     "metadata": {},
     "output_type": "execute_result"
    }
   ],
   "source": [
    "b_bad.isnull().sum()"
   ]
  },
  {
   "cell_type": "code",
   "execution_count": 16,
   "id": "2d211d44",
   "metadata": {},
   "outputs": [],
   "source": [
    "b_bad['U.S. viewers_million'].fillna(b_bad['U.S. viewers_million'].mode()[0],inplace=True)"
   ]
  },
  {
   "cell_type": "code",
   "execution_count": 17,
   "id": "be4b06c4",
   "metadata": {},
   "outputs": [
    {
     "data": {
      "text/plain": [
       "Date                    0\n",
       "Season                  0\n",
       "Episode                 0\n",
       "Title                   0\n",
       "Directed by             0\n",
       "Written by              0\n",
       "Duration_mins           0\n",
       "Summary                 0\n",
       "Rating_IMDB             0\n",
       "U.S. viewers_million    0\n",
       "dtype: int64"
      ]
     },
     "execution_count": 17,
     "metadata": {},
     "output_type": "execute_result"
    }
   ],
   "source": [
    "b_bad.isnull().sum()"
   ]
  },
  {
   "cell_type": "code",
   "execution_count": 18,
   "id": "2be70439",
   "metadata": {},
   "outputs": [
    {
     "data": {
      "text/html": [
       "<div>\n",
       "<style scoped>\n",
       "    .dataframe tbody tr th:only-of-type {\n",
       "        vertical-align: middle;\n",
       "    }\n",
       "\n",
       "    .dataframe tbody tr th {\n",
       "        vertical-align: top;\n",
       "    }\n",
       "\n",
       "    .dataframe thead th {\n",
       "        text-align: right;\n",
       "    }\n",
       "</style>\n",
       "<table border=\"1\" class=\"dataframe\">\n",
       "  <thead>\n",
       "    <tr style=\"text-align: right;\">\n",
       "      <th></th>\n",
       "      <th>Date</th>\n",
       "      <th>Season</th>\n",
       "      <th>Episode</th>\n",
       "      <th>Title</th>\n",
       "      <th>Directed by</th>\n",
       "      <th>Written by</th>\n",
       "      <th>Duration_mins</th>\n",
       "      <th>Summary</th>\n",
       "      <th>Rating_IMDB</th>\n",
       "      <th>U.S. viewers_million</th>\n",
       "    </tr>\n",
       "  </thead>\n",
       "  <tbody>\n",
       "    <tr>\n",
       "      <th>0</th>\n",
       "      <td>20-Jan-08</td>\n",
       "      <td>1</td>\n",
       "      <td>1</td>\n",
       "      <td>Pilot</td>\n",
       "      <td>Vince Gilligan</td>\n",
       "      <td>Vince Gilligan</td>\n",
       "      <td>58</td>\n",
       "      <td>Diagnosed with terminal lung cancer, chemistry...</td>\n",
       "      <td>9.1</td>\n",
       "      <td>1.41</td>\n",
       "    </tr>\n",
       "    <tr>\n",
       "      <th>1</th>\n",
       "      <td>27-Jan-08</td>\n",
       "      <td>1</td>\n",
       "      <td>2</td>\n",
       "      <td>Cat's in the Bag...</td>\n",
       "      <td>Adam Bernstein</td>\n",
       "      <td>Vince Gilligan</td>\n",
       "      <td>48</td>\n",
       "      <td>After their first drug deal goes terribly wron...</td>\n",
       "      <td>8.7</td>\n",
       "      <td>1.49</td>\n",
       "    </tr>\n",
       "    <tr>\n",
       "      <th>2</th>\n",
       "      <td>10-Feb-08</td>\n",
       "      <td>1</td>\n",
       "      <td>3</td>\n",
       "      <td>...And the Bag's in the River</td>\n",
       "      <td>Adam Bernstein</td>\n",
       "      <td>Vince Gilligan</td>\n",
       "      <td>48</td>\n",
       "      <td>Walt and Jesse clean up after the bathtub inci...</td>\n",
       "      <td>8.8</td>\n",
       "      <td>1.08</td>\n",
       "    </tr>\n",
       "    <tr>\n",
       "      <th>3</th>\n",
       "      <td>17-Feb-08</td>\n",
       "      <td>1</td>\n",
       "      <td>4</td>\n",
       "      <td>Cancer Man</td>\n",
       "      <td>Jim McKay</td>\n",
       "      <td>Vince Gilligan</td>\n",
       "      <td>48</td>\n",
       "      <td>Walt tells the rest of his family about his ca...</td>\n",
       "      <td>8.3</td>\n",
       "      <td>1.09</td>\n",
       "    </tr>\n",
       "    <tr>\n",
       "      <th>4</th>\n",
       "      <td>24-Feb-08</td>\n",
       "      <td>1</td>\n",
       "      <td>5</td>\n",
       "      <td>Gray Matter</td>\n",
       "      <td>Tricia Brock</td>\n",
       "      <td>Vince Gilligan, Patty Lin</td>\n",
       "      <td>48</td>\n",
       "      <td>Walt rejects everyone who tries to help him wi...</td>\n",
       "      <td>8.4</td>\n",
       "      <td>0.97</td>\n",
       "    </tr>\n",
       "  </tbody>\n",
       "</table>\n",
       "</div>"
      ],
      "text/plain": [
       "        Date  Season  Episode                          Title     Directed by  \\\n",
       "0  20-Jan-08       1        1                          Pilot  Vince Gilligan   \n",
       "1  27-Jan-08       1        2            Cat's in the Bag...  Adam Bernstein   \n",
       "2  10-Feb-08       1        3  ...And the Bag's in the River  Adam Bernstein   \n",
       "3  17-Feb-08       1        4                     Cancer Man       Jim McKay   \n",
       "4  24-Feb-08       1        5                    Gray Matter    Tricia Brock   \n",
       "\n",
       "                  Written by  Duration_mins  \\\n",
       "0             Vince Gilligan             58   \n",
       "1             Vince Gilligan             48   \n",
       "2             Vince Gilligan             48   \n",
       "3             Vince Gilligan             48   \n",
       "4  Vince Gilligan, Patty Lin             48   \n",
       "\n",
       "                                             Summary  Rating_IMDB  \\\n",
       "0  Diagnosed with terminal lung cancer, chemistry...          9.1   \n",
       "1  After their first drug deal goes terribly wron...          8.7   \n",
       "2  Walt and Jesse clean up after the bathtub inci...          8.8   \n",
       "3  Walt tells the rest of his family about his ca...          8.3   \n",
       "4  Walt rejects everyone who tries to help him wi...          8.4   \n",
       "\n",
       "   U.S. viewers_million  \n",
       "0                  1.41  \n",
       "1                  1.49  \n",
       "2                  1.08  \n",
       "3                  1.09  \n",
       "4                  0.97  "
      ]
     },
     "execution_count": 18,
     "metadata": {},
     "output_type": "execute_result"
    }
   ],
   "source": [
    "b_bad.head()"
   ]
  },
  {
   "cell_type": "code",
   "execution_count": 19,
   "id": "b255e45d",
   "metadata": {},
   "outputs": [
    {
     "data": {
      "text/html": [
       "<div>\n",
       "<style scoped>\n",
       "    .dataframe tbody tr th:only-of-type {\n",
       "        vertical-align: middle;\n",
       "    }\n",
       "\n",
       "    .dataframe tbody tr th {\n",
       "        vertical-align: top;\n",
       "    }\n",
       "\n",
       "    .dataframe thead th {\n",
       "        text-align: right;\n",
       "    }\n",
       "</style>\n",
       "<table border=\"1\" class=\"dataframe\">\n",
       "  <thead>\n",
       "    <tr style=\"text-align: right;\">\n",
       "      <th></th>\n",
       "      <th>Date</th>\n",
       "      <th>Season</th>\n",
       "      <th>Episode</th>\n",
       "      <th>Title</th>\n",
       "      <th>Directed by</th>\n",
       "      <th>Written by</th>\n",
       "      <th>Duration_mins</th>\n",
       "      <th>Summary</th>\n",
       "      <th>Rating_IMDB</th>\n",
       "      <th>U.S. viewers_million</th>\n",
       "    </tr>\n",
       "  </thead>\n",
       "  <tbody>\n",
       "    <tr>\n",
       "      <th>57</th>\n",
       "      <td>01-Sep-13</td>\n",
       "      <td>5</td>\n",
       "      <td>12</td>\n",
       "      <td>Rabid Dog</td>\n",
       "      <td>Sam Catlin</td>\n",
       "      <td>Vince Gilligan, Sam Catlin</td>\n",
       "      <td>48</td>\n",
       "      <td>Walt discovers Jesse broke into his house and ...</td>\n",
       "      <td>9.2</td>\n",
       "      <td>4.41</td>\n",
       "    </tr>\n",
       "    <tr>\n",
       "      <th>58</th>\n",
       "      <td>08-Sep-13</td>\n",
       "      <td>5</td>\n",
       "      <td>13</td>\n",
       "      <td>To'hajiilee</td>\n",
       "      <td>Michelle MacLaren</td>\n",
       "      <td>Vince Gilligan, George Mastras</td>\n",
       "      <td>47</td>\n",
       "      <td>Jesse and Hank come up with an idea to take Wa...</td>\n",
       "      <td>9.8</td>\n",
       "      <td>5.11</td>\n",
       "    </tr>\n",
       "    <tr>\n",
       "      <th>59</th>\n",
       "      <td>15-Sep-13</td>\n",
       "      <td>5</td>\n",
       "      <td>14</td>\n",
       "      <td>Ozymandias</td>\n",
       "      <td>Rian Johnson</td>\n",
       "      <td>Vince Gilligan, Moira Walley-Beckett</td>\n",
       "      <td>48</td>\n",
       "      <td>Walt goes on the run. Jesse is taken hostage. ...</td>\n",
       "      <td>10.0</td>\n",
       "      <td>6.37</td>\n",
       "    </tr>\n",
       "    <tr>\n",
       "      <th>60</th>\n",
       "      <td>22-Sep-13</td>\n",
       "      <td>5</td>\n",
       "      <td>15</td>\n",
       "      <td>Granite State</td>\n",
       "      <td>Peter Gould</td>\n",
       "      <td>Vince Gilligan, Peter Gould</td>\n",
       "      <td>55</td>\n",
       "      <td>Walt struggles as he adapts to aspects of his ...</td>\n",
       "      <td>9.7</td>\n",
       "      <td>6.58</td>\n",
       "    </tr>\n",
       "    <tr>\n",
       "      <th>61</th>\n",
       "      <td>29-Sep-13</td>\n",
       "      <td>5</td>\n",
       "      <td>16</td>\n",
       "      <td>Felina</td>\n",
       "      <td>Vince Gilligan</td>\n",
       "      <td>Vince Gilligan</td>\n",
       "      <td>55</td>\n",
       "      <td>Walter White makes one last attempt to secure ...</td>\n",
       "      <td>9.9</td>\n",
       "      <td>10.28</td>\n",
       "    </tr>\n",
       "  </tbody>\n",
       "</table>\n",
       "</div>"
      ],
      "text/plain": [
       "         Date  Season  Episode          Title        Directed by  \\\n",
       "57  01-Sep-13       5       12      Rabid Dog         Sam Catlin   \n",
       "58  08-Sep-13       5       13    To'hajiilee  Michelle MacLaren   \n",
       "59  15-Sep-13       5       14     Ozymandias       Rian Johnson   \n",
       "60  22-Sep-13       5       15  Granite State        Peter Gould   \n",
       "61  29-Sep-13       5       16         Felina     Vince Gilligan   \n",
       "\n",
       "                              Written by  Duration_mins  \\\n",
       "57            Vince Gilligan, Sam Catlin             48   \n",
       "58        Vince Gilligan, George Mastras             47   \n",
       "59  Vince Gilligan, Moira Walley-Beckett             48   \n",
       "60           Vince Gilligan, Peter Gould             55   \n",
       "61                        Vince Gilligan             55   \n",
       "\n",
       "                                              Summary  Rating_IMDB  \\\n",
       "57  Walt discovers Jesse broke into his house and ...          9.2   \n",
       "58  Jesse and Hank come up with an idea to take Wa...          9.8   \n",
       "59  Walt goes on the run. Jesse is taken hostage. ...         10.0   \n",
       "60  Walt struggles as he adapts to aspects of his ...          9.7   \n",
       "61  Walter White makes one last attempt to secure ...          9.9   \n",
       "\n",
       "    U.S. viewers_million  \n",
       "57                  4.41  \n",
       "58                  5.11  \n",
       "59                  6.37  \n",
       "60                  6.58  \n",
       "61                 10.28  "
      ]
     },
     "execution_count": 19,
     "metadata": {},
     "output_type": "execute_result"
    }
   ],
   "source": [
    "b_bad.tail()"
   ]
  },
  {
   "cell_type": "code",
   "execution_count": 20,
   "id": "94a0c42f",
   "metadata": {},
   "outputs": [
    {
     "data": {
      "text/plain": [
       "array([1, 2, 3, 4, 5], dtype=int64)"
      ]
     },
     "execution_count": 20,
     "metadata": {},
     "output_type": "execute_result"
    }
   ],
   "source": [
    "b_bad['Season'].unique()"
   ]
  },
  {
   "cell_type": "code",
   "execution_count": 23,
   "id": "296067da",
   "metadata": {},
   "outputs": [
    {
     "data": {
      "text/html": [
       "<div>\n",
       "<style scoped>\n",
       "    .dataframe tbody tr th:only-of-type {\n",
       "        vertical-align: middle;\n",
       "    }\n",
       "\n",
       "    .dataframe tbody tr th {\n",
       "        vertical-align: top;\n",
       "    }\n",
       "\n",
       "    .dataframe thead th {\n",
       "        text-align: right;\n",
       "    }\n",
       "</style>\n",
       "<table border=\"1\" class=\"dataframe\">\n",
       "  <thead>\n",
       "    <tr style=\"text-align: right;\">\n",
       "      <th></th>\n",
       "      <th>Episode</th>\n",
       "    </tr>\n",
       "    <tr>\n",
       "      <th>Season</th>\n",
       "      <th></th>\n",
       "    </tr>\n",
       "  </thead>\n",
       "  <tbody>\n",
       "    <tr>\n",
       "      <th>1</th>\n",
       "      <td>7</td>\n",
       "    </tr>\n",
       "    <tr>\n",
       "      <th>2</th>\n",
       "      <td>13</td>\n",
       "    </tr>\n",
       "    <tr>\n",
       "      <th>3</th>\n",
       "      <td>13</td>\n",
       "    </tr>\n",
       "    <tr>\n",
       "      <th>4</th>\n",
       "      <td>13</td>\n",
       "    </tr>\n",
       "    <tr>\n",
       "      <th>5</th>\n",
       "      <td>16</td>\n",
       "    </tr>\n",
       "  </tbody>\n",
       "</table>\n",
       "</div>"
      ],
      "text/plain": [
       "        Episode\n",
       "Season         \n",
       "1             7\n",
       "2            13\n",
       "3            13\n",
       "4            13\n",
       "5            16"
      ]
     },
     "execution_count": 23,
     "metadata": {},
     "output_type": "execute_result"
    }
   ],
   "source": [
    "b_bad[['Season','Episode']].groupby('Season').count()"
   ]
  },
  {
   "cell_type": "code",
   "execution_count": 26,
   "id": "0258b19d",
   "metadata": {},
   "outputs": [
    {
     "data": {
      "text/html": [
       "<div>\n",
       "<style scoped>\n",
       "    .dataframe tbody tr th:only-of-type {\n",
       "        vertical-align: middle;\n",
       "    }\n",
       "\n",
       "    .dataframe tbody tr th {\n",
       "        vertical-align: top;\n",
       "    }\n",
       "\n",
       "    .dataframe thead th {\n",
       "        text-align: right;\n",
       "    }\n",
       "</style>\n",
       "<table border=\"1\" class=\"dataframe\">\n",
       "  <thead>\n",
       "    <tr style=\"text-align: right;\">\n",
       "      <th></th>\n",
       "      <th>Duration_mins</th>\n",
       "    </tr>\n",
       "    <tr>\n",
       "      <th>Season</th>\n",
       "      <th></th>\n",
       "    </tr>\n",
       "  </thead>\n",
       "  <tbody>\n",
       "    <tr>\n",
       "      <th>1</th>\n",
       "      <td>346</td>\n",
       "    </tr>\n",
       "    <tr>\n",
       "      <th>2</th>\n",
       "      <td>611</td>\n",
       "    </tr>\n",
       "    <tr>\n",
       "      <th>3</th>\n",
       "      <td>611</td>\n",
       "    </tr>\n",
       "    <tr>\n",
       "      <th>4</th>\n",
       "      <td>627</td>\n",
       "    </tr>\n",
       "    <tr>\n",
       "      <th>5</th>\n",
       "      <td>776</td>\n",
       "    </tr>\n",
       "  </tbody>\n",
       "</table>\n",
       "</div>"
      ],
      "text/plain": [
       "        Duration_mins\n",
       "Season               \n",
       "1                 346\n",
       "2                 611\n",
       "3                 611\n",
       "4                 627\n",
       "5                 776"
      ]
     },
     "execution_count": 26,
     "metadata": {},
     "output_type": "execute_result"
    }
   ],
   "source": [
    "b_bad[['Season','Duration_mins']].groupby('Season').sum()"
   ]
  },
  {
   "cell_type": "code",
   "execution_count": 32,
   "id": "9cb39051",
   "metadata": {},
   "outputs": [
    {
     "data": {
      "text/plain": [
       "Episode          16\n",
       "Duration_mins    60\n",
       "dtype: int64"
      ]
     },
     "execution_count": 32,
     "metadata": {},
     "output_type": "execute_result"
    }
   ],
   "source": [
    "b_bad[['Episode','Duration_mins']].max()"
   ]
  },
  {
   "cell_type": "code",
   "execution_count": 34,
   "id": "0a05d270",
   "metadata": {},
   "outputs": [
    {
     "data": {
      "text/plain": [
       "array([58, 48, 47, 46, 60, 45, 51, 43, 55], dtype=int64)"
      ]
     },
     "execution_count": 34,
     "metadata": {},
     "output_type": "execute_result"
    }
   ],
   "source": [
    "b_bad['Duration_mins'].unique()"
   ]
  },
  {
   "cell_type": "code",
   "execution_count": 35,
   "id": "9e5b0540",
   "metadata": {},
   "outputs": [
    {
     "data": {
      "text/plain": [
       "array(['Vince Gilligan', 'Adam Bernstein', 'Jim McKay', 'Tricia Brock',\n",
       "       'Bronwen Hughes', 'Tim Hunter', 'Bryan Cranston', 'Charles Haid',\n",
       "       'Terry McDonough', 'John Dahl', 'Johan Renck', 'Peter Medak',\n",
       "       'Félix Enríquez Alcalá', 'Michelle MacLaren', 'Phil Abraham',\n",
       "       'Colin Bucksey', 'Scott Winant', 'John Shiban', 'Michael Slovis',\n",
       "       'Rian Johnson', 'David Slade', 'Peter Gould', 'George Mastras',\n",
       "       'Thomas Schnauz', 'Sam Catlin'], dtype=object)"
      ]
     },
     "execution_count": 35,
     "metadata": {},
     "output_type": "execute_result"
    }
   ],
   "source": [
    "b_bad[\"Directed by\"].unique()"
   ]
  },
  {
   "cell_type": "code",
   "execution_count": 36,
   "id": "58b6e3eb",
   "metadata": {},
   "outputs": [
    {
     "data": {
      "text/plain": [
       "25"
      ]
     },
     "execution_count": 36,
     "metadata": {},
     "output_type": "execute_result"
    }
   ],
   "source": [
    "b_bad[\"Directed by\"].nunique()"
   ]
  },
  {
   "cell_type": "code",
   "execution_count": 37,
   "id": "e668ec28",
   "metadata": {},
   "outputs": [
    {
     "data": {
      "text/plain": [
       "array(['Vince Gilligan', 'Vince Gilligan, Patty Lin',\n",
       "       'Vince Gilligan, George Mastras', 'Vince Gilligan, Peter Gould',\n",
       "       'Vince Gilligan, J. Roberts',\n",
       "       'Vince Gilligan, Peter Gould, George Mastras',\n",
       "       'Vince Gilligan, Sam Catlin',\n",
       "       'Vince Gilligan, Moira Walley-Beckett',\n",
       "       'Vince Gilligan, John Shiban',\n",
       "       'Vince Gilligan, Moira Walley-Beckett, J. Roberts',\n",
       "       'Vince Gilligan, Thomas Schnauz',\n",
       "       'Vince Gilligan, Gennifer Hutchison',\n",
       "       'Vince Gilligan, Sam Catlin, Moira Walley-Beckett',\n",
       "       'Vince Gilligan, John Shiban, Thomas Schnauz',\n",
       "       'Vince Gilligan, Sam Catlin, Peter Gould',\n",
       "       'Vince Gilligan, Sam Catlin, George Mastras',\n",
       "       'Vince Gilligan, Moira Walley-Beckett, Thomas Schnauz',\n",
       "       'Vince Gilligan, Peter Gould, Gennifer Hutchison',\n",
       "       'Vince Gilligan, George Mastras, Sam Catlin',\n",
       "       'Vince Gilligan, Thomas Schnauz, Moira Walley-Beckett'],\n",
       "      dtype=object)"
      ]
     },
     "execution_count": 37,
     "metadata": {},
     "output_type": "execute_result"
    }
   ],
   "source": [
    "bad[\"Written by\"].unique()"
   ]
  },
  {
   "cell_type": "code",
   "execution_count": 38,
   "id": "030c13a1",
   "metadata": {},
   "outputs": [
    {
     "data": {
      "text/plain": [
       "20"
      ]
     },
     "execution_count": 38,
     "metadata": {},
     "output_type": "execute_result"
    }
   ],
   "source": [
    "bad[\"Written by\"].nunique()"
   ]
  },
  {
   "cell_type": "code",
   "execution_count": 39,
   "id": "4cf80fd6",
   "metadata": {},
   "outputs": [
    {
     "data": {
      "text/html": [
       "<div>\n",
       "<style scoped>\n",
       "    .dataframe tbody tr th:only-of-type {\n",
       "        vertical-align: middle;\n",
       "    }\n",
       "\n",
       "    .dataframe tbody tr th {\n",
       "        vertical-align: top;\n",
       "    }\n",
       "\n",
       "    .dataframe thead th {\n",
       "        text-align: right;\n",
       "    }\n",
       "</style>\n",
       "<table border=\"1\" class=\"dataframe\">\n",
       "  <thead>\n",
       "    <tr style=\"text-align: right;\">\n",
       "      <th></th>\n",
       "      <th>Episode</th>\n",
       "    </tr>\n",
       "    <tr>\n",
       "      <th>Directed by</th>\n",
       "      <th></th>\n",
       "    </tr>\n",
       "  </thead>\n",
       "  <tbody>\n",
       "    <tr>\n",
       "      <th>Adam Bernstein</th>\n",
       "      <td>8</td>\n",
       "    </tr>\n",
       "    <tr>\n",
       "      <th>Bronwen Hughes</th>\n",
       "      <td>1</td>\n",
       "    </tr>\n",
       "    <tr>\n",
       "      <th>Bryan Cranston</th>\n",
       "      <td>3</td>\n",
       "    </tr>\n",
       "    <tr>\n",
       "      <th>Charles Haid</th>\n",
       "      <td>1</td>\n",
       "    </tr>\n",
       "    <tr>\n",
       "      <th>Colin Bucksey</th>\n",
       "      <td>4</td>\n",
       "    </tr>\n",
       "    <tr>\n",
       "      <th>David Slade</th>\n",
       "      <td>1</td>\n",
       "    </tr>\n",
       "    <tr>\n",
       "      <th>Félix Enríquez Alcalá</th>\n",
       "      <td>1</td>\n",
       "    </tr>\n",
       "    <tr>\n",
       "      <th>George Mastras</th>\n",
       "      <td>1</td>\n",
       "    </tr>\n",
       "    <tr>\n",
       "      <th>Jim McKay</th>\n",
       "      <td>1</td>\n",
       "    </tr>\n",
       "    <tr>\n",
       "      <th>Johan Renck</th>\n",
       "      <td>3</td>\n",
       "    </tr>\n",
       "    <tr>\n",
       "      <th>John Dahl</th>\n",
       "      <td>1</td>\n",
       "    </tr>\n",
       "    <tr>\n",
       "      <th>John Shiban</th>\n",
       "      <td>1</td>\n",
       "    </tr>\n",
       "    <tr>\n",
       "      <th>Michael Slovis</th>\n",
       "      <td>4</td>\n",
       "    </tr>\n",
       "    <tr>\n",
       "      <th>Michelle MacLaren</th>\n",
       "      <td>11</td>\n",
       "    </tr>\n",
       "    <tr>\n",
       "      <th>Peter Gould</th>\n",
       "      <td>2</td>\n",
       "    </tr>\n",
       "    <tr>\n",
       "      <th>Peter Medak</th>\n",
       "      <td>1</td>\n",
       "    </tr>\n",
       "    <tr>\n",
       "      <th>Phil Abraham</th>\n",
       "      <td>1</td>\n",
       "    </tr>\n",
       "    <tr>\n",
       "      <th>Rian Johnson</th>\n",
       "      <td>3</td>\n",
       "    </tr>\n",
       "    <tr>\n",
       "      <th>Sam Catlin</th>\n",
       "      <td>1</td>\n",
       "    </tr>\n",
       "    <tr>\n",
       "      <th>Scott Winant</th>\n",
       "      <td>2</td>\n",
       "    </tr>\n",
       "    <tr>\n",
       "      <th>Terry McDonough</th>\n",
       "      <td>3</td>\n",
       "    </tr>\n",
       "    <tr>\n",
       "      <th>Thomas Schnauz</th>\n",
       "      <td>1</td>\n",
       "    </tr>\n",
       "    <tr>\n",
       "      <th>Tim Hunter</th>\n",
       "      <td>1</td>\n",
       "    </tr>\n",
       "    <tr>\n",
       "      <th>Tricia Brock</th>\n",
       "      <td>1</td>\n",
       "    </tr>\n",
       "    <tr>\n",
       "      <th>Vince Gilligan</th>\n",
       "      <td>5</td>\n",
       "    </tr>\n",
       "  </tbody>\n",
       "</table>\n",
       "</div>"
      ],
      "text/plain": [
       "                       Episode\n",
       "Directed by                   \n",
       "Adam Bernstein               8\n",
       "Bronwen Hughes               1\n",
       "Bryan Cranston               3\n",
       "Charles Haid                 1\n",
       "Colin Bucksey                4\n",
       "David Slade                  1\n",
       "Félix Enríquez Alcalá        1\n",
       "George Mastras               1\n",
       "Jim McKay                    1\n",
       "Johan Renck                  3\n",
       "John Dahl                    1\n",
       "John Shiban                  1\n",
       "Michael Slovis               4\n",
       "Michelle MacLaren           11\n",
       "Peter Gould                  2\n",
       "Peter Medak                  1\n",
       "Phil Abraham                 1\n",
       "Rian Johnson                 3\n",
       "Sam Catlin                   1\n",
       "Scott Winant                 2\n",
       "Terry McDonough              3\n",
       "Thomas Schnauz               1\n",
       "Tim Hunter                   1\n",
       "Tricia Brock                 1\n",
       "Vince Gilligan               5"
      ]
     },
     "execution_count": 39,
     "metadata": {},
     "output_type": "execute_result"
    }
   ],
   "source": [
    "b_bad[[\"Episode\",\"Directed by\"]].groupby(\"Directed by\").count()\n",
    "#a list of directors with how much episodes each have directed"
   ]
  },
  {
   "cell_type": "code",
   "execution_count": 43,
   "id": "c5a05a96",
   "metadata": {},
   "outputs": [
    {
     "data": {
      "text/plain": [
       "62"
      ]
     },
     "execution_count": 43,
     "metadata": {},
     "output_type": "execute_result"
    }
   ],
   "source": [
    "b_bad[\"Date\"].nunique()"
   ]
  },
  {
   "cell_type": "code",
   "execution_count": 44,
   "id": "fe6e8f71",
   "metadata": {},
   "outputs": [
    {
     "data": {
      "text/plain": [
       "array(['20-Jan-08', '27-Jan-08', '10-Feb-08', '17-Feb-08', '24-Feb-08',\n",
       "       '02-Mar-08', '09-Mar-08', '08-Mar-09', '15-Mar-09', '22-Mar-09',\n",
       "       '29-Mar-09', '05-Apr-09', '12-Apr-09', '19-Apr-09', '26-Apr-09',\n",
       "       '03-May-09', '10-May-09', '17-May-09', '24-May-09', '31-May-09',\n",
       "       '21-Mar-10', '28-Mar-10', '04-Apr-10', '11-Apr-10', '18-Apr-10',\n",
       "       '25-Apr-10', '02-May-10', '09-May-10', '16-May-10', '23-May-10',\n",
       "       '30-May-10', '06-Jun-10', '13-Jun-10', '17-Jul-11', '24-Jul-11',\n",
       "       '31-Jul-11', '07-Aug-11', '14-Aug-11', '21-Aug-11', '28-Aug-11',\n",
       "       '04-Sep-11', '11-Sep-11', '18-Sep-11', '25-Sep-11', '02-Oct-11',\n",
       "       '09-Oct-11', '15-Jul-12', '22-Jul-12', '29-Jul-12', '05-Aug-12',\n",
       "       '12-Aug-12', '19-Aug-12', '26-Aug-12', '02-Sep-12', '11-Aug-13',\n",
       "       '18-Aug-13', '25-Aug-13', '01-Sep-13', '08-Sep-13', '15-Sep-13',\n",
       "       '22-Sep-13', '29-Sep-13'], dtype=object)"
      ]
     },
     "execution_count": 44,
     "metadata": {},
     "output_type": "execute_result"
    }
   ],
   "source": [
    "b_bad[\"Date\"].unique()\n",
    "#the series started on jan 2008 and ended at sep 2013"
   ]
  },
  {
   "cell_type": "code",
   "execution_count": 45,
   "id": "93cd939d",
   "metadata": {},
   "outputs": [],
   "source": [
    "b_bad[\"Date\"]=pd.to_datetime(bad[\"Date\"])"
   ]
  },
  {
   "cell_type": "code",
   "execution_count": 46,
   "id": "778eac72",
   "metadata": {},
   "outputs": [
    {
     "data": {
      "text/html": [
       "<div>\n",
       "<style scoped>\n",
       "    .dataframe tbody tr th:only-of-type {\n",
       "        vertical-align: middle;\n",
       "    }\n",
       "\n",
       "    .dataframe tbody tr th {\n",
       "        vertical-align: top;\n",
       "    }\n",
       "\n",
       "    .dataframe thead th {\n",
       "        text-align: right;\n",
       "    }\n",
       "</style>\n",
       "<table border=\"1\" class=\"dataframe\">\n",
       "  <thead>\n",
       "    <tr style=\"text-align: right;\">\n",
       "      <th></th>\n",
       "      <th>Date</th>\n",
       "      <th>Season</th>\n",
       "      <th>Episode</th>\n",
       "      <th>Title</th>\n",
       "      <th>Directed by</th>\n",
       "      <th>Written by</th>\n",
       "      <th>Duration_mins</th>\n",
       "      <th>Summary</th>\n",
       "      <th>Rating_IMDB</th>\n",
       "      <th>U.S. viewers_million</th>\n",
       "    </tr>\n",
       "  </thead>\n",
       "  <tbody>\n",
       "    <tr>\n",
       "      <th>0</th>\n",
       "      <td>2008-01-20</td>\n",
       "      <td>1</td>\n",
       "      <td>1</td>\n",
       "      <td>Pilot</td>\n",
       "      <td>Vince Gilligan</td>\n",
       "      <td>Vince Gilligan</td>\n",
       "      <td>58</td>\n",
       "      <td>Diagnosed with terminal lung cancer, chemistry...</td>\n",
       "      <td>9.1</td>\n",
       "      <td>1.41</td>\n",
       "    </tr>\n",
       "    <tr>\n",
       "      <th>1</th>\n",
       "      <td>2008-01-27</td>\n",
       "      <td>1</td>\n",
       "      <td>2</td>\n",
       "      <td>Cat's in the Bag...</td>\n",
       "      <td>Adam Bernstein</td>\n",
       "      <td>Vince Gilligan</td>\n",
       "      <td>48</td>\n",
       "      <td>After their first drug deal goes terribly wron...</td>\n",
       "      <td>8.7</td>\n",
       "      <td>1.49</td>\n",
       "    </tr>\n",
       "    <tr>\n",
       "      <th>2</th>\n",
       "      <td>2008-02-10</td>\n",
       "      <td>1</td>\n",
       "      <td>3</td>\n",
       "      <td>...And the Bag's in the River</td>\n",
       "      <td>Adam Bernstein</td>\n",
       "      <td>Vince Gilligan</td>\n",
       "      <td>48</td>\n",
       "      <td>Walt and Jesse clean up after the bathtub inci...</td>\n",
       "      <td>8.8</td>\n",
       "      <td>1.08</td>\n",
       "    </tr>\n",
       "    <tr>\n",
       "      <th>3</th>\n",
       "      <td>2008-02-17</td>\n",
       "      <td>1</td>\n",
       "      <td>4</td>\n",
       "      <td>Cancer Man</td>\n",
       "      <td>Jim McKay</td>\n",
       "      <td>Vince Gilligan</td>\n",
       "      <td>48</td>\n",
       "      <td>Walt tells the rest of his family about his ca...</td>\n",
       "      <td>8.3</td>\n",
       "      <td>1.09</td>\n",
       "    </tr>\n",
       "    <tr>\n",
       "      <th>4</th>\n",
       "      <td>2008-02-24</td>\n",
       "      <td>1</td>\n",
       "      <td>5</td>\n",
       "      <td>Gray Matter</td>\n",
       "      <td>Tricia Brock</td>\n",
       "      <td>Vince Gilligan, Patty Lin</td>\n",
       "      <td>48</td>\n",
       "      <td>Walt rejects everyone who tries to help him wi...</td>\n",
       "      <td>8.4</td>\n",
       "      <td>0.97</td>\n",
       "    </tr>\n",
       "  </tbody>\n",
       "</table>\n",
       "</div>"
      ],
      "text/plain": [
       "        Date  Season  Episode                          Title     Directed by  \\\n",
       "0 2008-01-20       1        1                          Pilot  Vince Gilligan   \n",
       "1 2008-01-27       1        2            Cat's in the Bag...  Adam Bernstein   \n",
       "2 2008-02-10       1        3  ...And the Bag's in the River  Adam Bernstein   \n",
       "3 2008-02-17       1        4                     Cancer Man       Jim McKay   \n",
       "4 2008-02-24       1        5                    Gray Matter    Tricia Brock   \n",
       "\n",
       "                  Written by  Duration_mins  \\\n",
       "0             Vince Gilligan             58   \n",
       "1             Vince Gilligan             48   \n",
       "2             Vince Gilligan             48   \n",
       "3             Vince Gilligan             48   \n",
       "4  Vince Gilligan, Patty Lin             48   \n",
       "\n",
       "                                             Summary  Rating_IMDB  \\\n",
       "0  Diagnosed with terminal lung cancer, chemistry...          9.1   \n",
       "1  After their first drug deal goes terribly wron...          8.7   \n",
       "2  Walt and Jesse clean up after the bathtub inci...          8.8   \n",
       "3  Walt tells the rest of his family about his ca...          8.3   \n",
       "4  Walt rejects everyone who tries to help him wi...          8.4   \n",
       "\n",
       "   U.S. viewers_million  \n",
       "0                  1.41  \n",
       "1                  1.49  \n",
       "2                  1.08  \n",
       "3                  1.09  \n",
       "4                  0.97  "
      ]
     },
     "execution_count": 46,
     "metadata": {},
     "output_type": "execute_result"
    }
   ],
   "source": [
    "b_bad.head()"
   ]
  },
  {
   "cell_type": "code",
   "execution_count": 48,
   "id": "b95e267b",
   "metadata": {},
   "outputs": [
    {
     "data": {
      "text/plain": [
       "array([ 9.1,  8.7,  8.8,  8.3,  8.4,  9.3,  8.9,  9.2,  8.6,  8.5,  9.6,\n",
       "        7.8,  9.5,  9.7,  8.1,  9.9,  9.8, 10. ])"
      ]
     },
     "execution_count": 48,
     "metadata": {},
     "output_type": "execute_result"
    }
   ],
   "source": [
    "b_bad[\"Rating_IMDB\"].unique()"
   ]
  },
  {
   "cell_type": "code",
   "execution_count": 50,
   "id": "2584d52c",
   "metadata": {},
   "outputs": [
    {
     "data": {
      "text/plain": [
       "18"
      ]
     },
     "execution_count": 50,
     "metadata": {},
     "output_type": "execute_result"
    }
   ],
   "source": [
    "b_bad[\"Rating_IMDB\"].nunique()"
   ]
  },
  {
   "cell_type": "code",
   "execution_count": 51,
   "id": "ccf75ee2",
   "metadata": {},
   "outputs": [
    {
     "data": {
      "text/html": [
       "<div>\n",
       "<style scoped>\n",
       "    .dataframe tbody tr th:only-of-type {\n",
       "        vertical-align: middle;\n",
       "    }\n",
       "\n",
       "    .dataframe tbody tr th {\n",
       "        vertical-align: top;\n",
       "    }\n",
       "\n",
       "    .dataframe thead th {\n",
       "        text-align: right;\n",
       "    }\n",
       "</style>\n",
       "<table border=\"1\" class=\"dataframe\">\n",
       "  <thead>\n",
       "    <tr style=\"text-align: right;\">\n",
       "      <th></th>\n",
       "      <th>Date</th>\n",
       "      <th>Season</th>\n",
       "      <th>Episode</th>\n",
       "      <th>Title</th>\n",
       "      <th>Directed by</th>\n",
       "      <th>Written by</th>\n",
       "      <th>Duration_mins</th>\n",
       "      <th>Summary</th>\n",
       "      <th>Rating_IMDB</th>\n",
       "      <th>U.S. viewers_million</th>\n",
       "    </tr>\n",
       "  </thead>\n",
       "  <tbody>\n",
       "    <tr>\n",
       "      <th>32</th>\n",
       "      <td>2010-06-13</td>\n",
       "      <td>3</td>\n",
       "      <td>13</td>\n",
       "      <td>Full Measure</td>\n",
       "      <td>Vince Gilligan</td>\n",
       "      <td>Vince Gilligan</td>\n",
       "      <td>47</td>\n",
       "      <td>Jesse has disappeared and Walt is in big troub...</td>\n",
       "      <td>9.7</td>\n",
       "      <td>1.56</td>\n",
       "    </tr>\n",
       "    <tr>\n",
       "      <th>43</th>\n",
       "      <td>2011-09-25</td>\n",
       "      <td>4</td>\n",
       "      <td>11</td>\n",
       "      <td>Crawl Space</td>\n",
       "      <td>Scott Winant</td>\n",
       "      <td>Vince Gilligan, George Mastras, Sam Catlin</td>\n",
       "      <td>45</td>\n",
       "      <td>Hank asks Walt to drive him to the laundry whe...</td>\n",
       "      <td>9.7</td>\n",
       "      <td>1.55</td>\n",
       "    </tr>\n",
       "    <tr>\n",
       "      <th>45</th>\n",
       "      <td>2011-10-09</td>\n",
       "      <td>4</td>\n",
       "      <td>13</td>\n",
       "      <td>Face Off</td>\n",
       "      <td>Vince Gilligan</td>\n",
       "      <td>Vince Gilligan</td>\n",
       "      <td>51</td>\n",
       "      <td>Jesse is brought to the FBI for questioning on...</td>\n",
       "      <td>9.9</td>\n",
       "      <td>1.90</td>\n",
       "    </tr>\n",
       "    <tr>\n",
       "      <th>50</th>\n",
       "      <td>2012-08-12</td>\n",
       "      <td>5</td>\n",
       "      <td>5</td>\n",
       "      <td>Dead Freight</td>\n",
       "      <td>George Mastras</td>\n",
       "      <td>Vince Gilligan, George Mastras</td>\n",
       "      <td>48</td>\n",
       "      <td>Walter White's domestic life continues to dete...</td>\n",
       "      <td>9.7</td>\n",
       "      <td>2.48</td>\n",
       "    </tr>\n",
       "    <tr>\n",
       "      <th>58</th>\n",
       "      <td>2013-09-08</td>\n",
       "      <td>5</td>\n",
       "      <td>13</td>\n",
       "      <td>To'hajiilee</td>\n",
       "      <td>Michelle MacLaren</td>\n",
       "      <td>Vince Gilligan, George Mastras</td>\n",
       "      <td>47</td>\n",
       "      <td>Jesse and Hank come up with an idea to take Wa...</td>\n",
       "      <td>9.8</td>\n",
       "      <td>5.11</td>\n",
       "    </tr>\n",
       "    <tr>\n",
       "      <th>59</th>\n",
       "      <td>2013-09-15</td>\n",
       "      <td>5</td>\n",
       "      <td>14</td>\n",
       "      <td>Ozymandias</td>\n",
       "      <td>Rian Johnson</td>\n",
       "      <td>Vince Gilligan, Moira Walley-Beckett</td>\n",
       "      <td>48</td>\n",
       "      <td>Walt goes on the run. Jesse is taken hostage. ...</td>\n",
       "      <td>10.0</td>\n",
       "      <td>6.37</td>\n",
       "    </tr>\n",
       "    <tr>\n",
       "      <th>60</th>\n",
       "      <td>2013-09-22</td>\n",
       "      <td>5</td>\n",
       "      <td>15</td>\n",
       "      <td>Granite State</td>\n",
       "      <td>Peter Gould</td>\n",
       "      <td>Vince Gilligan, Peter Gould</td>\n",
       "      <td>55</td>\n",
       "      <td>Walt struggles as he adapts to aspects of his ...</td>\n",
       "      <td>9.7</td>\n",
       "      <td>6.58</td>\n",
       "    </tr>\n",
       "    <tr>\n",
       "      <th>61</th>\n",
       "      <td>2013-09-29</td>\n",
       "      <td>5</td>\n",
       "      <td>16</td>\n",
       "      <td>Felina</td>\n",
       "      <td>Vince Gilligan</td>\n",
       "      <td>Vince Gilligan</td>\n",
       "      <td>55</td>\n",
       "      <td>Walter White makes one last attempt to secure ...</td>\n",
       "      <td>9.9</td>\n",
       "      <td>10.28</td>\n",
       "    </tr>\n",
       "  </tbody>\n",
       "</table>\n",
       "</div>"
      ],
      "text/plain": [
       "         Date  Season  Episode          Title        Directed by  \\\n",
       "32 2010-06-13       3       13   Full Measure     Vince Gilligan   \n",
       "43 2011-09-25       4       11    Crawl Space       Scott Winant   \n",
       "45 2011-10-09       4       13       Face Off     Vince Gilligan   \n",
       "50 2012-08-12       5        5   Dead Freight     George Mastras   \n",
       "58 2013-09-08       5       13    To'hajiilee  Michelle MacLaren   \n",
       "59 2013-09-15       5       14     Ozymandias       Rian Johnson   \n",
       "60 2013-09-22       5       15  Granite State        Peter Gould   \n",
       "61 2013-09-29       5       16         Felina     Vince Gilligan   \n",
       "\n",
       "                                    Written by  Duration_mins  \\\n",
       "32                              Vince Gilligan             47   \n",
       "43  Vince Gilligan, George Mastras, Sam Catlin             45   \n",
       "45                              Vince Gilligan             51   \n",
       "50              Vince Gilligan, George Mastras             48   \n",
       "58              Vince Gilligan, George Mastras             47   \n",
       "59        Vince Gilligan, Moira Walley-Beckett             48   \n",
       "60                 Vince Gilligan, Peter Gould             55   \n",
       "61                              Vince Gilligan             55   \n",
       "\n",
       "                                              Summary  Rating_IMDB  \\\n",
       "32  Jesse has disappeared and Walt is in big troub...          9.7   \n",
       "43  Hank asks Walt to drive him to the laundry whe...          9.7   \n",
       "45  Jesse is brought to the FBI for questioning on...          9.9   \n",
       "50  Walter White's domestic life continues to dete...          9.7   \n",
       "58  Jesse and Hank come up with an idea to take Wa...          9.8   \n",
       "59  Walt goes on the run. Jesse is taken hostage. ...         10.0   \n",
       "60  Walt struggles as he adapts to aspects of his ...          9.7   \n",
       "61  Walter White makes one last attempt to secure ...          9.9   \n",
       "\n",
       "    U.S. viewers_million  \n",
       "32                  1.56  \n",
       "43                  1.55  \n",
       "45                  1.90  \n",
       "50                  2.48  \n",
       "58                  5.11  \n",
       "59                  6.37  \n",
       "60                  6.58  \n",
       "61                 10.28  "
      ]
     },
     "execution_count": 51,
     "metadata": {},
     "output_type": "execute_result"
    }
   ],
   "source": [
    "b_bad[b_bad[\"Rating_IMDB\"]>=9.7]"
   ]
  },
  {
   "cell_type": "code",
   "execution_count": 53,
   "id": "17561368",
   "metadata": {},
   "outputs": [
    {
     "data": {
      "text/html": [
       "<div>\n",
       "<style scoped>\n",
       "    .dataframe tbody tr th:only-of-type {\n",
       "        vertical-align: middle;\n",
       "    }\n",
       "\n",
       "    .dataframe tbody tr th {\n",
       "        vertical-align: top;\n",
       "    }\n",
       "\n",
       "    .dataframe thead th {\n",
       "        text-align: right;\n",
       "    }\n",
       "</style>\n",
       "<table border=\"1\" class=\"dataframe\">\n",
       "  <thead>\n",
       "    <tr style=\"text-align: right;\">\n",
       "      <th></th>\n",
       "      <th>Date</th>\n",
       "      <th>Season</th>\n",
       "      <th>Episode</th>\n",
       "      <th>Title</th>\n",
       "      <th>Directed by</th>\n",
       "      <th>Written by</th>\n",
       "      <th>Duration_mins</th>\n",
       "      <th>Summary</th>\n",
       "      <th>Rating_IMDB</th>\n",
       "      <th>U.S. viewers_million</th>\n",
       "    </tr>\n",
       "  </thead>\n",
       "  <tbody>\n",
       "    <tr>\n",
       "      <th>59</th>\n",
       "      <td>2013-09-15</td>\n",
       "      <td>5</td>\n",
       "      <td>14</td>\n",
       "      <td>Ozymandias</td>\n",
       "      <td>Rian Johnson</td>\n",
       "      <td>Vince Gilligan, Moira Walley-Beckett</td>\n",
       "      <td>48</td>\n",
       "      <td>Walt goes on the run. Jesse is taken hostage. ...</td>\n",
       "      <td>10.0</td>\n",
       "      <td>6.37</td>\n",
       "    </tr>\n",
       "  </tbody>\n",
       "</table>\n",
       "</div>"
      ],
      "text/plain": [
       "         Date  Season  Episode       Title   Directed by  \\\n",
       "59 2013-09-15       5       14  Ozymandias  Rian Johnson   \n",
       "\n",
       "                              Written by  Duration_mins  \\\n",
       "59  Vince Gilligan, Moira Walley-Beckett             48   \n",
       "\n",
       "                                              Summary  Rating_IMDB  \\\n",
       "59  Walt goes on the run. Jesse is taken hostage. ...         10.0   \n",
       "\n",
       "    U.S. viewers_million  \n",
       "59                  6.37  "
      ]
     },
     "execution_count": 53,
     "metadata": {},
     "output_type": "execute_result"
    }
   ],
   "source": [
    "b_bad[b_bad[\"Rating_IMDB\"]==10]\n",
    "#the episode with the 10 stars 14th episode in 5th season"
   ]
  },
  {
   "cell_type": "code",
   "execution_count": 54,
   "id": "c88251d4",
   "metadata": {},
   "outputs": [
    {
     "data": {
      "text/plain": [
       "'Walt goes on the run. Jesse is taken hostage. Marie convinces Skyler to tell Walter, Jr. the truth.'"
      ]
     },
     "execution_count": 54,
     "metadata": {},
     "output_type": "execute_result"
    }
   ],
   "source": [
    "b_bad[b_bad[\"Rating_IMDB\"]==10][\"Summary\"][59]"
   ]
  },
  {
   "cell_type": "code",
   "execution_count": 55,
   "id": "c2f1c436",
   "metadata": {},
   "outputs": [
    {
     "name": "stderr",
     "output_type": "stream",
     "text": [
      "C:\\Users\\theja\\AppData\\Local\\Temp\\ipykernel_9168\\1471358690.py:1: FutureWarning: The default value of numeric_only in DataFrame.corr is deprecated. In a future version, it will default to False. Select only valid columns or specify the value of numeric_only to silence this warning.\n",
      "  bad.corr()\n"
     ]
    },
    {
     "data": {
      "text/html": [
       "<div>\n",
       "<style scoped>\n",
       "    .dataframe tbody tr th:only-of-type {\n",
       "        vertical-align: middle;\n",
       "    }\n",
       "\n",
       "    .dataframe tbody tr th {\n",
       "        vertical-align: top;\n",
       "    }\n",
       "\n",
       "    .dataframe thead th {\n",
       "        text-align: right;\n",
       "    }\n",
       "</style>\n",
       "<table border=\"1\" class=\"dataframe\">\n",
       "  <thead>\n",
       "    <tr style=\"text-align: right;\">\n",
       "      <th></th>\n",
       "      <th>Season</th>\n",
       "      <th>Episode</th>\n",
       "      <th>Duration_mins</th>\n",
       "      <th>Rating_IMDB</th>\n",
       "      <th>U.S. viewers_million</th>\n",
       "    </tr>\n",
       "  </thead>\n",
       "  <tbody>\n",
       "    <tr>\n",
       "      <th>Season</th>\n",
       "      <td>1.000000</td>\n",
       "      <td>0.263719</td>\n",
       "      <td>0.061618</td>\n",
       "      <td>0.435525</td>\n",
       "      <td>0.617048</td>\n",
       "    </tr>\n",
       "    <tr>\n",
       "      <th>Episode</th>\n",
       "      <td>0.263719</td>\n",
       "      <td>1.000000</td>\n",
       "      <td>0.059981</td>\n",
       "      <td>0.555829</td>\n",
       "      <td>0.520130</td>\n",
       "    </tr>\n",
       "    <tr>\n",
       "      <th>Duration_mins</th>\n",
       "      <td>0.061618</td>\n",
       "      <td>0.059981</td>\n",
       "      <td>1.000000</td>\n",
       "      <td>0.088966</td>\n",
       "      <td>0.342615</td>\n",
       "    </tr>\n",
       "    <tr>\n",
       "      <th>Rating_IMDB</th>\n",
       "      <td>0.435525</td>\n",
       "      <td>0.555829</td>\n",
       "      <td>0.088966</td>\n",
       "      <td>1.000000</td>\n",
       "      <td>0.537575</td>\n",
       "    </tr>\n",
       "    <tr>\n",
       "      <th>U.S. viewers_million</th>\n",
       "      <td>0.617048</td>\n",
       "      <td>0.520130</td>\n",
       "      <td>0.342615</td>\n",
       "      <td>0.537575</td>\n",
       "      <td>1.000000</td>\n",
       "    </tr>\n",
       "  </tbody>\n",
       "</table>\n",
       "</div>"
      ],
      "text/plain": [
       "                        Season   Episode  Duration_mins  Rating_IMDB  \\\n",
       "Season                1.000000  0.263719       0.061618     0.435525   \n",
       "Episode               0.263719  1.000000       0.059981     0.555829   \n",
       "Duration_mins         0.061618  0.059981       1.000000     0.088966   \n",
       "Rating_IMDB           0.435525  0.555829       0.088966     1.000000   \n",
       "U.S. viewers_million  0.617048  0.520130       0.342615     0.537575   \n",
       "\n",
       "                      U.S. viewers_million  \n",
       "Season                            0.617048  \n",
       "Episode                           0.520130  \n",
       "Duration_mins                     0.342615  \n",
       "Rating_IMDB                       0.537575  \n",
       "U.S. viewers_million              1.000000  "
      ]
     },
     "execution_count": 55,
     "metadata": {},
     "output_type": "execute_result"
    }
   ],
   "source": [
    "b_bad.corr()"
   ]
  },
  {
   "cell_type": "code",
   "execution_count": 57,
   "id": "521199e0",
   "metadata": {},
   "outputs": [
    {
     "data": {
      "text/plain": [
       "59    10.0\n",
       "45     9.9\n",
       "61     9.9\n",
       "58     9.8\n",
       "32     9.7\n",
       "Name: Rating_IMDB, dtype: float64"
      ]
     },
     "execution_count": 57,
     "metadata": {},
     "output_type": "execute_result"
    }
   ],
   "source": [
    "b_bad[\"Rating_IMDB\"].nlargest()"
   ]
  },
  {
   "cell_type": "code",
   "execution_count": 58,
   "id": "bda28f0f",
   "metadata": {},
   "outputs": [
    {
     "data": {
      "text/plain": [
       "29    7.8\n",
       "35    8.1\n",
       "3     8.3\n",
       "10    8.3\n",
       "23    8.3\n",
       "Name: Rating_IMDB, dtype: float64"
      ]
     },
     "execution_count": 58,
     "metadata": {},
     "output_type": "execute_result"
    }
   ],
   "source": [
    "b_bad[\"Rating_IMDB\"].nsmallest()"
   ]
  },
  {
   "cell_type": "code",
   "execution_count": 59,
   "id": "faf35b20",
   "metadata": {},
   "outputs": [
    {
     "data": {
      "text/html": [
       "<div>\n",
       "<style scoped>\n",
       "    .dataframe tbody tr th:only-of-type {\n",
       "        vertical-align: middle;\n",
       "    }\n",
       "\n",
       "    .dataframe tbody tr th {\n",
       "        vertical-align: top;\n",
       "    }\n",
       "\n",
       "    .dataframe thead th {\n",
       "        text-align: right;\n",
       "    }\n",
       "</style>\n",
       "<table border=\"1\" class=\"dataframe\">\n",
       "  <thead>\n",
       "    <tr style=\"text-align: right;\">\n",
       "      <th></th>\n",
       "      <th>U.S. viewers_million</th>\n",
       "    </tr>\n",
       "    <tr>\n",
       "      <th>Directed by</th>\n",
       "      <th></th>\n",
       "    </tr>\n",
       "  </thead>\n",
       "  <tbody>\n",
       "    <tr>\n",
       "      <th>Adam Bernstein</th>\n",
       "      <td>13.00</td>\n",
       "    </tr>\n",
       "    <tr>\n",
       "      <th>Bronwen Hughes</th>\n",
       "      <td>1.07</td>\n",
       "    </tr>\n",
       "    <tr>\n",
       "      <th>Bryan Cranston</th>\n",
       "      <td>9.53</td>\n",
       "    </tr>\n",
       "    <tr>\n",
       "      <th>Charles Haid</th>\n",
       "      <td>1.60</td>\n",
       "    </tr>\n",
       "    <tr>\n",
       "      <th>Colin Bucksey</th>\n",
       "      <td>7.83</td>\n",
       "    </tr>\n",
       "    <tr>\n",
       "      <th>David Slade</th>\n",
       "      <td>1.71</td>\n",
       "    </tr>\n",
       "    <tr>\n",
       "      <th>Félix Enríquez Alcalá</th>\n",
       "      <td>1.41</td>\n",
       "    </tr>\n",
       "    <tr>\n",
       "      <th>George Mastras</th>\n",
       "      <td>2.48</td>\n",
       "    </tr>\n",
       "    <tr>\n",
       "      <th>Jim McKay</th>\n",
       "      <td>1.09</td>\n",
       "    </tr>\n",
       "    <tr>\n",
       "      <th>Johan Renck</th>\n",
       "      <td>4.80</td>\n",
       "    </tr>\n",
       "    <tr>\n",
       "      <th>John Dahl</th>\n",
       "      <td>1.29</td>\n",
       "    </tr>\n",
       "    <tr>\n",
       "      <th>John Shiban</th>\n",
       "      <td>1.64</td>\n",
       "    </tr>\n",
       "    <tr>\n",
       "      <th>Michael Slovis</th>\n",
       "      <td>11.06</td>\n",
       "    </tr>\n",
       "    <tr>\n",
       "      <th>Michelle MacLaren</th>\n",
       "      <td>26.05</td>\n",
       "    </tr>\n",
       "    <tr>\n",
       "      <th>Peter Gould</th>\n",
       "      <td>8.49</td>\n",
       "    </tr>\n",
       "    <tr>\n",
       "      <th>Peter Medak</th>\n",
       "      <td>1.41</td>\n",
       "    </tr>\n",
       "    <tr>\n",
       "      <th>Phil Abraham</th>\n",
       "      <td>1.41</td>\n",
       "    </tr>\n",
       "    <tr>\n",
       "      <th>Rian Johnson</th>\n",
       "      <td>9.86</td>\n",
       "    </tr>\n",
       "    <tr>\n",
       "      <th>Sam Catlin</th>\n",
       "      <td>4.41</td>\n",
       "    </tr>\n",
       "    <tr>\n",
       "      <th>Scott Winant</th>\n",
       "      <td>3.01</td>\n",
       "    </tr>\n",
       "    <tr>\n",
       "      <th>Terry McDonough</th>\n",
       "      <td>4.06</td>\n",
       "    </tr>\n",
       "    <tr>\n",
       "      <th>Thomas Schnauz</th>\n",
       "      <td>2.98</td>\n",
       "    </tr>\n",
       "    <tr>\n",
       "      <th>Tim Hunter</th>\n",
       "      <td>1.50</td>\n",
       "    </tr>\n",
       "    <tr>\n",
       "      <th>Tricia Brock</th>\n",
       "      <td>0.97</td>\n",
       "    </tr>\n",
       "    <tr>\n",
       "      <th>Vince Gilligan</th>\n",
       "      <td>16.88</td>\n",
       "    </tr>\n",
       "  </tbody>\n",
       "</table>\n",
       "</div>"
      ],
      "text/plain": [
       "                       U.S. viewers_million\n",
       "Directed by                                \n",
       "Adam Bernstein                        13.00\n",
       "Bronwen Hughes                         1.07\n",
       "Bryan Cranston                         9.53\n",
       "Charles Haid                           1.60\n",
       "Colin Bucksey                          7.83\n",
       "David Slade                            1.71\n",
       "Félix Enríquez Alcalá                  1.41\n",
       "George Mastras                         2.48\n",
       "Jim McKay                              1.09\n",
       "Johan Renck                            4.80\n",
       "John Dahl                              1.29\n",
       "John Shiban                            1.64\n",
       "Michael Slovis                        11.06\n",
       "Michelle MacLaren                     26.05\n",
       "Peter Gould                            8.49\n",
       "Peter Medak                            1.41\n",
       "Phil Abraham                           1.41\n",
       "Rian Johnson                           9.86\n",
       "Sam Catlin                             4.41\n",
       "Scott Winant                           3.01\n",
       "Terry McDonough                        4.06\n",
       "Thomas Schnauz                         2.98\n",
       "Tim Hunter                             1.50\n",
       "Tricia Brock                           0.97\n",
       "Vince Gilligan                        16.88"
      ]
     },
     "execution_count": 59,
     "metadata": {},
     "output_type": "execute_result"
    }
   ],
   "source": [
    "b_bad[[\"U.S. viewers_million\",\"Directed by\"]].groupby(\"Directed by\").sum()\n",
    "#we can check the total viewers according to the directors"
   ]
  },
  {
   "cell_type": "code",
   "execution_count": 63,
   "id": "3a720a88",
   "metadata": {},
   "outputs": [
    {
     "data": {
      "text/html": [
       "<div>\n",
       "<style scoped>\n",
       "    .dataframe tbody tr th:only-of-type {\n",
       "        vertical-align: middle;\n",
       "    }\n",
       "\n",
       "    .dataframe tbody tr th {\n",
       "        vertical-align: top;\n",
       "    }\n",
       "\n",
       "    .dataframe thead th {\n",
       "        text-align: right;\n",
       "    }\n",
       "</style>\n",
       "<table border=\"1\" class=\"dataframe\">\n",
       "  <thead>\n",
       "    <tr style=\"text-align: right;\">\n",
       "      <th></th>\n",
       "      <th>Duration_mins</th>\n",
       "    </tr>\n",
       "    <tr>\n",
       "      <th>Season</th>\n",
       "      <th></th>\n",
       "    </tr>\n",
       "  </thead>\n",
       "  <tbody>\n",
       "    <tr>\n",
       "      <th>1</th>\n",
       "      <td>49.428571</td>\n",
       "    </tr>\n",
       "    <tr>\n",
       "      <th>2</th>\n",
       "      <td>47.000000</td>\n",
       "    </tr>\n",
       "    <tr>\n",
       "      <th>3</th>\n",
       "      <td>47.000000</td>\n",
       "    </tr>\n",
       "    <tr>\n",
       "      <th>4</th>\n",
       "      <td>48.230769</td>\n",
       "    </tr>\n",
       "    <tr>\n",
       "      <th>5</th>\n",
       "      <td>48.500000</td>\n",
       "    </tr>\n",
       "  </tbody>\n",
       "</table>\n",
       "</div>"
      ],
      "text/plain": [
       "        Duration_mins\n",
       "Season               \n",
       "1           49.428571\n",
       "2           47.000000\n",
       "3           47.000000\n",
       "4           48.230769\n",
       "5           48.500000"
      ]
     },
     "execution_count": 63,
     "metadata": {},
     "output_type": "execute_result"
    }
   ],
   "source": [
    "b_bad[[\"Season\",\"Duration_mins\"]].groupby(\"Season\").mean()\n",
    "#avg of duration in each season"
   ]
  },
  {
   "cell_type": "code",
   "execution_count": 64,
   "id": "9d04b57c",
   "metadata": {},
   "outputs": [
    {
     "data": {
      "text/html": [
       "<div>\n",
       "<style scoped>\n",
       "    .dataframe tbody tr th:only-of-type {\n",
       "        vertical-align: middle;\n",
       "    }\n",
       "\n",
       "    .dataframe tbody tr th {\n",
       "        vertical-align: top;\n",
       "    }\n",
       "\n",
       "    .dataframe thead th {\n",
       "        text-align: right;\n",
       "    }\n",
       "</style>\n",
       "<table border=\"1\" class=\"dataframe\">\n",
       "  <thead>\n",
       "    <tr style=\"text-align: right;\">\n",
       "      <th></th>\n",
       "      <th>U.S. viewers_million</th>\n",
       "    </tr>\n",
       "    <tr>\n",
       "      <th>Season</th>\n",
       "      <th></th>\n",
       "    </tr>\n",
       "  </thead>\n",
       "  <tbody>\n",
       "    <tr>\n",
       "      <th>1</th>\n",
       "      <td>1.230000</td>\n",
       "    </tr>\n",
       "    <tr>\n",
       "      <th>2</th>\n",
       "      <td>1.376154</td>\n",
       "    </tr>\n",
       "    <tr>\n",
       "      <th>3</th>\n",
       "      <td>1.516923</td>\n",
       "    </tr>\n",
       "    <tr>\n",
       "      <th>4</th>\n",
       "      <td>1.866923</td>\n",
       "    </tr>\n",
       "    <tr>\n",
       "      <th>5</th>\n",
       "      <td>4.315625</td>\n",
       "    </tr>\n",
       "  </tbody>\n",
       "</table>\n",
       "</div>"
      ],
      "text/plain": [
       "        U.S. viewers_million\n",
       "Season                      \n",
       "1                   1.230000\n",
       "2                   1.376154\n",
       "3                   1.516923\n",
       "4                   1.866923\n",
       "5                   4.315625"
      ]
     },
     "execution_count": 64,
     "metadata": {},
     "output_type": "execute_result"
    }
   ],
   "source": [
    "b_bad[[\"Season\",\"U.S. viewers_million\"]].groupby(\"Season\").mean()\n",
    "#avg of viewers for each season"
   ]
  },
  {
   "cell_type": "code",
   "execution_count": 65,
   "id": "19b5b17d",
   "metadata": {},
   "outputs": [
    {
     "data": {
      "text/html": [
       "<div>\n",
       "<style scoped>\n",
       "    .dataframe tbody tr th:only-of-type {\n",
       "        vertical-align: middle;\n",
       "    }\n",
       "\n",
       "    .dataframe tbody tr th {\n",
       "        vertical-align: top;\n",
       "    }\n",
       "\n",
       "    .dataframe thead th {\n",
       "        text-align: right;\n",
       "    }\n",
       "</style>\n",
       "<table border=\"1\" class=\"dataframe\">\n",
       "  <thead>\n",
       "    <tr style=\"text-align: right;\">\n",
       "      <th></th>\n",
       "      <th>U.S. viewers_million</th>\n",
       "    </tr>\n",
       "    <tr>\n",
       "      <th>Season</th>\n",
       "      <th></th>\n",
       "    </tr>\n",
       "  </thead>\n",
       "  <tbody>\n",
       "    <tr>\n",
       "      <th>1</th>\n",
       "      <td>8.61</td>\n",
       "    </tr>\n",
       "    <tr>\n",
       "      <th>2</th>\n",
       "      <td>17.89</td>\n",
       "    </tr>\n",
       "    <tr>\n",
       "      <th>3</th>\n",
       "      <td>19.72</td>\n",
       "    </tr>\n",
       "    <tr>\n",
       "      <th>4</th>\n",
       "      <td>24.27</td>\n",
       "    </tr>\n",
       "    <tr>\n",
       "      <th>5</th>\n",
       "      <td>69.05</td>\n",
       "    </tr>\n",
       "  </tbody>\n",
       "</table>\n",
       "</div>"
      ],
      "text/plain": [
       "        U.S. viewers_million\n",
       "Season                      \n",
       "1                       8.61\n",
       "2                      17.89\n",
       "3                      19.72\n",
       "4                      24.27\n",
       "5                      69.05"
      ]
     },
     "execution_count": 65,
     "metadata": {},
     "output_type": "execute_result"
    }
   ],
   "source": [
    "b_bad[[\"Season\",\"U.S. viewers_million\"]].groupby(\"Season\").sum()\n",
    "#total viewers in each season"
   ]
  },
  {
   "cell_type": "code",
   "execution_count": 72,
   "id": "ddc2e4b2",
   "metadata": {},
   "outputs": [
    {
     "data": {
      "text/plain": [
       "<Axes: xlabel='Season', ylabel='U.S. viewers_million'>"
      ]
     },
     "execution_count": 72,
     "metadata": {},
     "output_type": "execute_result"
    },
    {
     "data": {
      "image/png": "[encoded data removed]",
      "text/plain": [
       "<Figure size 640x480 with 1 Axes>"
      ]
     },
     "metadata": {},
     "output_type": "display_data"
    }
   ],
   "source": [
    "sns.boxplot(x=\"Season\",y=\"U.S. viewers_million\",data=b_bad)"
   ]
  },
  {
   "cell_type": "code",
   "execution_count": 71,
   "id": "50e327cb",
   "metadata": {},
   "outputs": [
    {
     "data": {
      "text/plain": [
       "<Axes: xlabel='Season', ylabel='Rating_IMDB'>"
      ]
     },
     "execution_count": 71,
     "metadata": {},
     "output_type": "execute_result"
    },
    {
     "data": {
      "image/png": "[encoded data removed]",
      "text/plain": [
       "<Figure size 640x480 with 1 Axes>"
      ]
     },
     "metadata": {},
     "output_type": "display_data"
    }
   ],
   "source": [
    "sns.boxplot(x=\"Season\",y=\"Rating_IMDB\",data=b_bad)"
   ]
  },
  {
   "cell_type": "code",
   "execution_count": 70,
   "id": "9559220e",
   "metadata": {},
   "outputs": [
    {
     "data": {
      "text/plain": [
       "<Axes: xlabel='Season', ylabel='Episode'>"
      ]
     },
     "execution_count": 70,
     "metadata": {},
     "output_type": "execute_result"
    },
    {
     "data": {
      "image/png": "[encoded data removed]",
      "text/plain": [
       "<Figure size 640x480 with 1 Axes>"
      ]
     },
     "metadata": {},
     "output_type": "display_data"
    }
   ],
   "source": [
    "sns.barplot(x=\"Season\",y=\"Episode\",data=b_bad)"
   ]
  },
  {
   "cell_type": "code",
   "execution_count": 73,
   "id": "74cef8f0",
   "metadata": {},
   "outputs": [
    {
     "data": {
      "text/plain": [
       "<Axes: xlabel='Season', ylabel='Rating_IMDB'>"
      ]
     },
     "execution_count": 73,
     "metadata": {},
     "output_type": "execute_result"
    },
    {
     "data": {
      "image/png": "[encoded data removed]",
      "text/plain": [
       "<Figure size 640x480 with 1 Axes>"
      ]
     },
     "metadata": {},
     "output_type": "display_data"
    }
   ],
   "source": [
    "sns.barplot(x=\"Season\",y=\"Rating_IMDB\",data=b_bad)"
   ]
  },
  {
   "cell_type": "code",
   "execution_count": 75,
   "id": "0a7ab45e",
   "metadata": {},
   "outputs": [
    {
     "name": "stderr",
     "output_type": "stream",
     "text": [
      "C:\\Users\\theja\\AppData\\Local\\Temp\\ipykernel_9168\\2503687010.py:1: FutureWarning: The default value of numeric_only in DataFrame.corr is deprecated. In a future version, it will default to False. Select only valid columns or specify the value of numeric_only to silence this warning.\n",
      "  b_bad.corr()\n"
     ]
    },
    {
     "data": {
      "text/html": [
       "<div>\n",
       "<style scoped>\n",
       "    .dataframe tbody tr th:only-of-type {\n",
       "        vertical-align: middle;\n",
       "    }\n",
       "\n",
       "    .dataframe tbody tr th {\n",
       "        vertical-align: top;\n",
       "    }\n",
       "\n",
       "    .dataframe thead th {\n",
       "        text-align: right;\n",
       "    }\n",
       "</style>\n",
       "<table border=\"1\" class=\"dataframe\">\n",
       "  <thead>\n",
       "    <tr style=\"text-align: right;\">\n",
       "      <th></th>\n",
       "      <th>Season</th>\n",
       "      <th>Episode</th>\n",
       "      <th>Duration_mins</th>\n",
       "      <th>Rating_IMDB</th>\n",
       "      <th>U.S. viewers_million</th>\n",
       "    </tr>\n",
       "  </thead>\n",
       "  <tbody>\n",
       "    <tr>\n",
       "      <th>Season</th>\n",
       "      <td>1.000000</td>\n",
       "      <td>0.263719</td>\n",
       "      <td>0.061618</td>\n",
       "      <td>0.435525</td>\n",
       "      <td>0.627690</td>\n",
       "    </tr>\n",
       "    <tr>\n",
       "      <th>Episode</th>\n",
       "      <td>0.263719</td>\n",
       "      <td>1.000000</td>\n",
       "      <td>0.059981</td>\n",
       "      <td>0.555829</td>\n",
       "      <td>0.469410</td>\n",
       "    </tr>\n",
       "    <tr>\n",
       "      <th>Duration_mins</th>\n",
       "      <td>0.061618</td>\n",
       "      <td>0.059981</td>\n",
       "      <td>1.000000</td>\n",
       "      <td>0.088966</td>\n",
       "      <td>0.352569</td>\n",
       "    </tr>\n",
       "    <tr>\n",
       "      <th>Rating_IMDB</th>\n",
       "      <td>0.435525</td>\n",
       "      <td>0.555829</td>\n",
       "      <td>0.088966</td>\n",
       "      <td>1.000000</td>\n",
       "      <td>0.531853</td>\n",
       "    </tr>\n",
       "    <tr>\n",
       "      <th>U.S. viewers_million</th>\n",
       "      <td>0.627690</td>\n",
       "      <td>0.469410</td>\n",
       "      <td>0.352569</td>\n",
       "      <td>0.531853</td>\n",
       "      <td>1.000000</td>\n",
       "    </tr>\n",
       "  </tbody>\n",
       "</table>\n",
       "</div>"
      ],
      "text/plain": [
       "                        Season   Episode  Duration_mins  Rating_IMDB  \\\n",
       "Season                1.000000  0.263719       0.061618     0.435525   \n",
       "Episode               0.263719  1.000000       0.059981     0.555829   \n",
       "Duration_mins         0.061618  0.059981       1.000000     0.088966   \n",
       "Rating_IMDB           0.435525  0.555829       0.088966     1.000000   \n",
       "U.S. viewers_million  0.627690  0.469410       0.352569     0.531853   \n",
       "\n",
       "                      U.S. viewers_million  \n",
       "Season                            0.627690  \n",
       "Episode                           0.469410  \n",
       "Duration_mins                     0.352569  \n",
       "Rating_IMDB                       0.531853  \n",
       "U.S. viewers_million              1.000000  "
      ]
     },
     "execution_count": 75,
     "metadata": {},
     "output_type": "execute_result"
    }
   ],
   "source": [
    "b_bad.corr()"
   ]
  },
  {
   "cell_type": "code",
   "execution_count": 74,
   "id": "ec157b6b",
   "metadata": {},
   "outputs": [
    {
     "name": "stderr",
     "output_type": "stream",
     "text": [
      "C:\\Users\\theja\\AppData\\Local\\Temp\\ipykernel_9168\\976870537.py:1: FutureWarning: The default value of numeric_only in DataFrame.corr is deprecated. In a future version, it will default to False. Select only valid columns or specify the value of numeric_only to silence this warning.\n",
      "  sns.heatmap(b_bad.corr())\n"
     ]
    },
    {
     "data": {
      "text/plain": [
       "<Axes: >"
      ]
     },
     "execution_count": 74,
     "metadata": {},
     "output_type": "execute_result"
    },
    {
     "data": {
      "image/png": "[encoded data removed]",
      "text/plain": [
       "<Figure size 640x480 with 2 Axes>"
      ]
     },
     "metadata": {},
     "output_type": "display_data"
    }
   ],
   "source": [
    "sns.heatmap(b_bad.corr())"
   ]
  },
  {
   "cell_type": "code",
   "execution_count": null,
   "id": "ac9fc9bc",
   "metadata": {},
   "outputs": [],
   "source": []
  }
 ],
 "metadata": {
  "kernelspec": {
   "display_name": "Python 3 (ipykernel)",
   "language": "python",
   "name": "python3"
  },
  "language_info": {
   "codemirror_mode": {
    "name": "ipython",
    "version": 3
   },
   "file_extension": ".py",
   "mimetype": "text/x-python",
   "name": "python",
   "nbconvert_exporter": "python",
   "pygments_lexer": "ipython3",
   "version": "3.10.9"
  }
 },
 "nbformat": 4,
 "nbformat_minor": 5
}
